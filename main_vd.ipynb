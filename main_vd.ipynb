{
 "cells": [
  {
   "cell_type": "code",
   "execution_count": 1,
   "metadata": {},
   "outputs": [
    {
     "name": "stdout",
     "output_type": "stream",
     "text": [
      "WARNING:tensorflow:From c:\\Python311\\Lib\\site-packages\\keras\\src\\losses.py:2976: The name tf.losses.sparse_softmax_cross_entropy is deprecated. Please use tf.compat.v1.losses.sparse_softmax_cross_entropy instead.\n",
      "\n"
     ]
    }
   ],
   "source": [
    "import os\n",
    "import zipfile\n",
    "import random\n",
    "import shutil\n",
    "import tensorflow as tf\n",
    "from tensorflow.keras.preprocessing.image import ImageDataGenerator\n",
    "from shutil import copyfile\n",
    "import matplotlib.pyplot as plt\n",
    "import scipy\n",
    "from scipy import linalg\n",
    "from scipy import ndimage\n",
    "import cv2\n",
    "import numpy as np\n",
    "from keras.preprocessing.image import ImageDataGenerator\n",
    "import pickle\n"
   ]
  },
  {
   "cell_type": "code",
   "execution_count": 18,
   "metadata": {},
   "outputs": [
    {
     "name": "stdout",
     "output_type": "stream",
     "text": [
      "Found 924 images belonging to 8 classes.\n"
     ]
    },
    {
     "name": "stdout",
     "output_type": "stream",
     "text": [
      "Found 233 images belonging to 8 classes.\n"
     ]
    },
    {
     "data": {
      "text/plain": [
       "{'BA- cellulitis': 0,\n",
       " 'BA-impetigo': 1,\n",
       " 'FU-athlete-foot': 2,\n",
       " 'FU-nail-fungus': 3,\n",
       " 'FU-ringworm': 4,\n",
       " 'PA-cutaneous-larva-migrans': 5,\n",
       " 'VI-chickenpox': 6,\n",
       " 'VI-shingles': 7}"
      ]
     },
     "execution_count": 18,
     "metadata": {},
     "output_type": "execute_result"
    }
   ],
   "source": [
    "# DEKLARASI PATH DATA TRAIN DAN TEST\n",
    "TrainingImagePath= r\"F:\\KECERDASAN BUATAN\\tensorfloww\\skin-disease-datasaet\\train_set\"\n",
    "TestImagePath = r\"F:\\KECERDASAN BUATAN\\tensorfloww\\skin-disease-datasaet\\test_set\"\n",
    "\n",
    "# IMAGE DATA GENERATOR -> UNTUK AUGMENTASI GAMBAR PADA DATASHEET TRAINING\n",
    "from keras.preprocessing.image import ImageDataGenerator\n",
    "train_datagen = ImageDataGenerator(\n",
    "        rescale=1/255,\n",
    "        rotation_range=10,\n",
    "        width_shift_range=0.05,\n",
    "        height_shift_range=0.05,\n",
    "        shear_range=0.05,\n",
    "        zoom_range=0.05,\n",
    "        horizontal_flip=True,\n",
    "        fill_mode='nearest')\n",
    "\n",
    "# MEMBUAT OBJEK UNTUK RESCALLING PADA DATASHEET TRAINING\n",
    "test_datagen = ImageDataGenerator(rescale=1/255)\n",
    "\n",
    "# MEMBUAT DATASHEET TRAINING DARI DIREKTORI, GAMBAR AKAN DIRUBAH SESUAI DENGAN KONFIGURASI YANG DITENTUKAN\n",
    "training_set = train_datagen.flow_from_directory(\n",
    "        TrainingImagePath,\n",
    "        target_size=(64, 64),\n",
    "        batch_size=32,\n",
    "        class_mode='categorical')  # KARENA DATA INI BERKATEGORI BUKAN BINARY\n",
    "\n",
    "# MEMBUAT DATASHEET TESTING DARI DIREKTORI, GAMBAR AKAN DIRUBAH SESUAI DENGAN KONFIGURASI YANG DITENTUKAN\n",
    "test_set = test_datagen.flow_from_directory(\n",
    "        TestImagePath,\n",
    "        target_size=(64, 64),\n",
    "        batch_size=16,\n",
    "        class_mode='categorical')\n",
    "\n",
    "# MENDAPATKAN INDEKS CLASS YANG SUDAH DITEMUKAN DALAM DATASHEET PENGUJIAN\n",
    "test_set.class_indices"
   ]
  },
  {
   "cell_type": "code",
   "execution_count": 19,
   "metadata": {},
   "outputs": [
    {
     "name": "stdout",
     "output_type": "stream",
     "text": [
      "Mapping of Face and its ID {0: 'BA- cellulitis', 1: 'BA-impetigo', 2: 'FU-athlete-foot', 3: 'FU-nail-fungus', 4: 'FU-ringworm', 5: 'PA-cutaneous-larva-migrans', 6: 'VI-chickenpox', 7: 'VI-shingles'}\n"
     ]
    }
   ],
   "source": [
    "# MENGAMBIL INDEKS DARI DATASHEET CLASS SEBELUMNYA\n",
    "TrainClasses = training_set.class_indices\n",
    "\n",
    "# MEMBUAT PEMETAAN YANG HASILNYA DALAM BENTUK DICTIONARY\n",
    "ResultMap = {}\n",
    "for faceValue, faceName in zip(TrainClasses.values(), TrainClasses.keys()):\n",
    "    ResultMap[faceValue] = faceName\n",
    "\n",
    "with open(\"ResultsMap.pkl\", 'wb') as fileWriteStream:\n",
    "    pickle.dump(ResultMap, fileWriteStream)\n",
    "\n",
    "# MENAMPILKAN PEMETAAN ID CLASS DAN NAMA CLASS\n",
    "print(\"Mapping of Face and its ID\", ResultMap)"
   ]
  },
  {
   "cell_type": "code",
   "execution_count": 20,
   "metadata": {},
   "outputs": [
    {
     "name": "stdout",
     "output_type": "stream",
     "text": [
      "\n",
      " The Number of output neurons:  8\n",
      "Model: \"sequential_15\"\n",
      "_________________________________________________________________\n",
      " Layer (type)                Output Shape              Param #   \n",
      "=================================================================\n",
      " conv2d_30 (Conv2D)          (None, 60, 60, 32)        2432      \n",
      "                                                                 \n",
      " max_pooling2d_30 (MaxPooli  (None, 30, 30, 32)        0         \n",
      " ng2D)                                                           \n",
      "                                                                 \n",
      " conv2d_31 (Conv2D)          (None, 26, 26, 64)        51264     \n",
      "                                                                 \n",
      " max_pooling2d_31 (MaxPooli  (None, 13, 13, 64)        0         \n",
      " ng2D)                                                           \n",
      "                                                                 \n",
      " flatten_15 (Flatten)        (None, 10816)             0         \n",
      "                                                                 \n",
      " dense_30 (Dense)            (None, 64)                692288    \n",
      "                                                                 \n",
      " dense_31 (Dense)            (None, 8)                 520       \n",
      "                                                                 \n",
      "=================================================================\n",
      "Total params: 746504 (2.85 MB)\n",
      "Trainable params: 746504 (2.85 MB)\n",
      "Non-trainable params: 0 (0.00 Byte)\n",
      "_________________________________________________________________\n"
     ]
    }
   ],
   "source": [
    "OutputNeurons = len(ResultMap)\n",
    "print('\\n The Number of output neurons: ', OutputNeurons)\n",
    "\n",
    "# MEMBUAT MODEL\n",
    "from tensorflow.keras.optimizers import RMSprop\n",
    "import tensorflow as tf\n",
    "\n",
    "# MENDEFINISIKAN FUNSGI UNTUK MENJADI MODEL\n",
    "def create_model():\n",
    "    # MODEL SEKUENSIAL\n",
    "    model = tf.keras.models.Sequential([\n",
    "        tf.keras.layers.Conv2D(32, kernel_size=(5, 5), strides=(1, 1), input_shape=(64, 64, 3), activation='relu'),\n",
    "        tf.keras.layers.MaxPooling2D(2, 2),\n",
    "        tf.keras.layers.Conv2D(64, kernel_size=(5, 5), strides=(1, 1), activation='relu'),\n",
    "        tf.keras.layers.MaxPooling2D(2, 2),\n",
    "        tf.keras.layers.Flatten(),\n",
    "        tf.keras.layers.Dense(64, activation='relu'),\n",
    "        tf.keras.layers.Dense(OutputNeurons, activation='softmax')\n",
    "    ])\n",
    "    # model = tf.keras.models.Sequential([\n",
    "    #     tf.keras.layers.Conv2D(32, kernel_size=(5, 5), strides=(1, 1), input_shape=(64, 64, 3), activation='relu'),\n",
    "    #     tf.keras.layers.MaxPooling2D(2, 2),\n",
    "    #     tf.keras.layers.Conv2D(64, kernel_size=(5, 5), strides=(1, 1), activation='relu'),\n",
    "    #     tf.keras.layers.MaxPooling2D(2, 2),\n",
    "    #     tf.keras.layers.Flatten(),\n",
    "    #     tf.keras.layers.Dense(64, activation='relu'),\n",
    "    #     tf.keras.layers.Dense(OutputNeurons, activation='softmax')\n",
    "    # ])\n",
    "\n",
    "    # MENGKOMPILASI PROGRAM\n",
    "    model.compile(optimizer='adam',  # MENGGUNAKAN ADAM KARENA DATASHEET BERKATEGORI DAN YANG MENDUKUNG ADALAH ADAM\n",
    "                  loss='categorical_crossentropy',  # DATA BERKATEGORI BUKAN BINARY\n",
    "                  metrics=['accuracy'])  # YANG INGIN DILIHAT NILAI AKURASINYA\n",
    "\n",
    "    # MENAMPILKAN RINGKASAN MODEL\n",
    "    model.summary()\n",
    "    return model\n",
    "\n",
    "# PANGGIL FUNGSI MODEL\n",
    "model = create_model()"
   ]
  },
  {
   "cell_type": "code",
   "execution_count": 22,
   "metadata": {},
   "outputs": [
    {
     "name": "stdout",
     "output_type": "stream",
     "text": [
      "Epoch 1/50\n",
      "29/29 [==============================] - 4s 144ms/step - loss: 0.1367 - accuracy: 0.9567 - val_loss: 1.1400 - val_accuracy: 0.7940\n",
      "Epoch 2/50\n",
      "29/29 [==============================] - 4s 135ms/step - loss: 0.1373 - accuracy: 0.9578 - val_loss: 1.1519 - val_accuracy: 0.8069\n",
      "Epoch 3/50\n",
      "29/29 [==============================] - 4s 141ms/step - loss: 0.1746 - accuracy: 0.9405 - val_loss: 1.2069 - val_accuracy: 0.7940\n",
      "Epoch 4/50\n",
      "29/29 [==============================] - 4s 137ms/step - loss: 0.1676 - accuracy: 0.9448 - val_loss: 1.1368 - val_accuracy: 0.8155\n",
      "Epoch 5/50\n",
      "29/29 [==============================] - 4s 136ms/step - loss: 0.1808 - accuracy: 0.9394 - val_loss: 1.0228 - val_accuracy: 0.8326\n",
      "Epoch 6/50\n",
      "29/29 [==============================] - 4s 138ms/step - loss: 0.1677 - accuracy: 0.9448 - val_loss: 1.0530 - val_accuracy: 0.8283\n",
      "Epoch 7/50\n",
      "29/29 [==============================] - 4s 138ms/step - loss: 0.1216 - accuracy: 0.9632 - val_loss: 1.0800 - val_accuracy: 0.8240\n",
      "Epoch 8/50\n",
      "29/29 [==============================] - 4s 143ms/step - loss: 0.1478 - accuracy: 0.9502 - val_loss: 1.1984 - val_accuracy: 0.8112\n",
      "Epoch 9/50\n",
      "29/29 [==============================] - 4s 140ms/step - loss: 0.1605 - accuracy: 0.9589 - val_loss: 1.2037 - val_accuracy: 0.8197\n",
      "Epoch 10/50\n",
      "29/29 [==============================] - 4s 137ms/step - loss: 0.1122 - accuracy: 0.9686 - val_loss: 1.1388 - val_accuracy: 0.8069\n",
      "Epoch 11/50\n",
      "29/29 [==============================] - 4s 142ms/step - loss: 0.1106 - accuracy: 0.9632 - val_loss: 1.1968 - val_accuracy: 0.8369\n",
      "Epoch 12/50\n",
      "29/29 [==============================] - 4s 140ms/step - loss: 0.1063 - accuracy: 0.9632 - val_loss: 1.0896 - val_accuracy: 0.8283\n",
      "Epoch 13/50\n",
      "29/29 [==============================] - 4s 142ms/step - loss: 0.1097 - accuracy: 0.9665 - val_loss: 1.2510 - val_accuracy: 0.8283\n",
      "Epoch 14/50\n",
      "29/29 [==============================] - 4s 142ms/step - loss: 0.1537 - accuracy: 0.9556 - val_loss: 1.5933 - val_accuracy: 0.7682\n",
      "Epoch 15/50\n",
      "29/29 [==============================] - 4s 140ms/step - loss: 0.1182 - accuracy: 0.9632 - val_loss: 1.1916 - val_accuracy: 0.8112\n",
      "Epoch 16/50\n",
      "29/29 [==============================] - 4s 141ms/step - loss: 0.0856 - accuracy: 0.9740 - val_loss: 1.1272 - val_accuracy: 0.8283\n",
      "Epoch 17/50\n",
      "29/29 [==============================] - 4s 140ms/step - loss: 0.1065 - accuracy: 0.9643 - val_loss: 1.2064 - val_accuracy: 0.8155\n",
      "Epoch 18/50\n",
      "29/29 [==============================] - 4s 137ms/step - loss: 0.0941 - accuracy: 0.9686 - val_loss: 1.3237 - val_accuracy: 0.8240\n",
      "Epoch 19/50\n",
      "29/29 [==============================] - 4s 140ms/step - loss: 0.1292 - accuracy: 0.9610 - val_loss: 1.3273 - val_accuracy: 0.7983\n",
      "Epoch 20/50\n",
      "29/29 [==============================] - 4s 145ms/step - loss: 0.0835 - accuracy: 0.9773 - val_loss: 1.3499 - val_accuracy: 0.8326\n",
      "Epoch 21/50\n",
      "29/29 [==============================] - 4s 139ms/step - loss: 0.1210 - accuracy: 0.9643 - val_loss: 1.1870 - val_accuracy: 0.8069\n",
      "Epoch 22/50\n",
      "29/29 [==============================] - 4s 137ms/step - loss: 0.1719 - accuracy: 0.9426 - val_loss: 1.0148 - val_accuracy: 0.8412\n",
      "Epoch 23/50\n",
      "29/29 [==============================] - 4s 139ms/step - loss: 0.1228 - accuracy: 0.9632 - val_loss: 1.3324 - val_accuracy: 0.8155\n",
      "Epoch 24/50\n",
      "29/29 [==============================] - 4s 134ms/step - loss: 0.1152 - accuracy: 0.9686 - val_loss: 1.3650 - val_accuracy: 0.8240\n",
      "Epoch 25/50\n",
      "29/29 [==============================] - 4s 137ms/step - loss: 0.0763 - accuracy: 0.9729 - val_loss: 1.3258 - val_accuracy: 0.8326\n",
      "Epoch 26/50\n",
      "29/29 [==============================] - 4s 136ms/step - loss: 0.0833 - accuracy: 0.9751 - val_loss: 1.1924 - val_accuracy: 0.8283\n",
      "Epoch 27/50\n",
      "29/29 [==============================] - 4s 134ms/step - loss: 0.0480 - accuracy: 0.9870 - val_loss: 1.2582 - val_accuracy: 0.8369\n",
      "Epoch 28/50\n",
      "29/29 [==============================] - 4s 127ms/step - loss: 0.0688 - accuracy: 0.9816 - val_loss: 1.3302 - val_accuracy: 0.8240\n",
      "Epoch 29/50\n",
      "29/29 [==============================] - 4s 130ms/step - loss: 0.0765 - accuracy: 0.9740 - val_loss: 1.5463 - val_accuracy: 0.7983\n",
      "Epoch 30/50\n",
      "29/29 [==============================] - 4s 139ms/step - loss: 0.0850 - accuracy: 0.9740 - val_loss: 1.0210 - val_accuracy: 0.8369\n",
      "Epoch 31/50\n",
      "29/29 [==============================] - 4s 139ms/step - loss: 0.1029 - accuracy: 0.9686 - val_loss: 1.1427 - val_accuracy: 0.8455\n",
      "Epoch 32/50\n",
      "29/29 [==============================] - 4s 136ms/step - loss: 0.0616 - accuracy: 0.9848 - val_loss: 1.2487 - val_accuracy: 0.8155\n",
      "Epoch 33/50\n",
      "29/29 [==============================] - 4s 136ms/step - loss: 0.0715 - accuracy: 0.9816 - val_loss: 1.2769 - val_accuracy: 0.8412\n",
      "Epoch 34/50\n",
      "29/29 [==============================] - 4s 137ms/step - loss: 0.0926 - accuracy: 0.9751 - val_loss: 1.2176 - val_accuracy: 0.8240\n",
      "Epoch 35/50\n",
      "29/29 [==============================] - 4s 136ms/step - loss: 0.0725 - accuracy: 0.9751 - val_loss: 1.3700 - val_accuracy: 0.8240\n",
      "Epoch 36/50\n",
      "29/29 [==============================] - 4s 139ms/step - loss: 0.0678 - accuracy: 0.9729 - val_loss: 1.4167 - val_accuracy: 0.8197\n",
      "Epoch 37/50\n",
      "29/29 [==============================] - 4s 135ms/step - loss: 0.0720 - accuracy: 0.9816 - val_loss: 1.3870 - val_accuracy: 0.8240\n",
      "Epoch 38/50\n",
      "29/29 [==============================] - 4s 134ms/step - loss: 0.0967 - accuracy: 0.9654 - val_loss: 1.1089 - val_accuracy: 0.8412\n",
      "Epoch 39/50\n",
      "29/29 [==============================] - 4s 132ms/step - loss: 0.0888 - accuracy: 0.9654 - val_loss: 1.1547 - val_accuracy: 0.8326\n",
      "Epoch 40/50\n",
      "29/29 [==============================] - 4s 138ms/step - loss: 0.0419 - accuracy: 0.9838 - val_loss: 1.0665 - val_accuracy: 0.8498\n",
      "Epoch 41/50\n",
      "29/29 [==============================] - 4s 137ms/step - loss: 0.0586 - accuracy: 0.9805 - val_loss: 1.3026 - val_accuracy: 0.8283\n",
      "Epoch 42/50\n",
      "29/29 [==============================] - 4s 134ms/step - loss: 0.0766 - accuracy: 0.9740 - val_loss: 1.2361 - val_accuracy: 0.8326\n",
      "Epoch 43/50\n",
      "29/29 [==============================] - 4s 137ms/step - loss: 0.1343 - accuracy: 0.9567 - val_loss: 1.1029 - val_accuracy: 0.8197\n",
      "Epoch 44/50\n",
      "29/29 [==============================] - 4s 136ms/step - loss: 0.1131 - accuracy: 0.9632 - val_loss: 1.2831 - val_accuracy: 0.8369\n",
      "Epoch 45/50\n",
      "29/29 [==============================] - 4s 136ms/step - loss: 0.1385 - accuracy: 0.9567 - val_loss: 1.2869 - val_accuracy: 0.8283\n",
      "Epoch 46/50\n",
      "29/29 [==============================] - 4s 135ms/step - loss: 0.1043 - accuracy: 0.9578 - val_loss: 1.2611 - val_accuracy: 0.8240\n",
      "Epoch 47/50\n",
      "29/29 [==============================] - 4s 135ms/step - loss: 0.0920 - accuracy: 0.9697 - val_loss: 0.9896 - val_accuracy: 0.8455\n",
      "Epoch 48/50\n",
      "29/29 [==============================] - 4s 135ms/step - loss: 0.0633 - accuracy: 0.9784 - val_loss: 1.3089 - val_accuracy: 0.8369\n",
      "Epoch 49/50\n",
      "29/29 [==============================] - 4s 136ms/step - loss: 0.1119 - accuracy: 0.9600 - val_loss: 1.2413 - val_accuracy: 0.8197\n",
      "Epoch 50/50\n",
      "29/29 [==============================] - 4s 141ms/step - loss: 0.0655 - accuracy: 0.9751 - val_loss: 1.4433 - val_accuracy: 0.8369\n"
     ]
    }
   ],
   "source": [
    "history = model.fit(training_set,\n",
    "                    epochs=50,\n",
    "                    validation_data=test_set\n",
    "                    # validation_steps=10\n",
    "                    )\n"
   ]
  },
  {
   "cell_type": "code",
   "execution_count": null,
   "metadata": {},
   "outputs": [],
   "source": [
    "with open(\"ResultsMap.pkl\", 'rb') as fileReadStream:\n",
    "    ResultMap = pickle.load(fileReadStream)\n",
    "\n",
    "cap = cv2.VideoCapture(0)  \n",
    "\n",
    "while True:\n",
    "    ret, frame = cap.read()\n",
    "    resized_frame = cv2.resize(frame, (64, 64))\n",
    "    img_array = np.expand_dims(resized_frame, axis=0) / 255.0\n",
    "    predictions = model.predict(img_array)\n",
    "    predicted_class = ResultMap[np.argmax(predictions)]\n",
    "    cv2.putText(frame, f'Prediction: {predicted_class}', (10, 30), cv2.FONT_HERSHEY_SIMPLEX, 1, (0, 255, 0), 2)\n",
    "    cv2.imshow('Webcam Detection', frame)\n",
    "    if cv2.waitKey(1) & 0xFF == ord('q'):\n",
    "        break\n",
    "\n",
    "cap.release()\n",
    "cv2.destroyAllWindows()"
   ]
  }
 ],
 "metadata": {
  "kernelspec": {
   "display_name": "Python 3",
   "language": "python",
   "name": "python3"
  },
  "language_info": {
   "codemirror_mode": {
    "name": "ipython",
    "version": 3
   },
   "file_extension": ".py",
   "mimetype": "text/x-python",
   "name": "python",
   "nbconvert_exporter": "python",
   "pygments_lexer": "ipython3",
   "version": "3.11.4"
  }
 },
 "nbformat": 4,
 "nbformat_minor": 2
}
